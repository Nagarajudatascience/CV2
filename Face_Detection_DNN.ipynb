{
 "cells": [
  {
   "cell_type": "code",
   "execution_count": 2,
   "id": "6fa95148",
   "metadata": {},
   "outputs": [],
   "source": [
    "import numpy as np\n",
    "import cv2 "
   ]
  },
  {
   "cell_type": "code",
   "execution_count": 3,
   "id": "50b73787",
   "metadata": {},
   "outputs": [],
   "source": [
    "img = cv2.imread('face.jpg')"
   ]
  },
  {
   "cell_type": "code",
   "execution_count": 4,
   "id": "b3e76240",
   "metadata": {},
   "outputs": [],
   "source": [
    "cv2.imshow('face',img)\n",
    "cv2.waitKey(0)\n",
    "cv2.destroyAllWindows()"
   ]
  },
  {
   "cell_type": "code",
   "execution_count": 5,
   "id": "fdebdd33",
   "metadata": {},
   "outputs": [],
   "source": [
    "face_detection_model = cv2.dnn.readNetFromCaffe('deploy.prototxt.txt','res10_300x300_ssd_iter_140000_fp16.caffemodel')"
   ]
  },
  {
   "cell_type": "code",
   "execution_count": 6,
   "id": "f02407fa",
   "metadata": {},
   "outputs": [],
   "source": [
    "# step 1 : blob from image\n",
    "\n",
    "blob = cv2.dnn.blobFromImage(img,1,(300,300),(104,177,123),swapRB=True)"
   ]
  },
  {
   "cell_type": "code",
   "execution_count": 7,
   "id": "6bef752f",
   "metadata": {},
   "outputs": [],
   "source": [
    "# step 2 : blob from image\n",
    "\n",
    "face_detection_model.setInput(blob)\n"
   ]
  },
  {
   "cell_type": "code",
   "execution_count": 8,
   "id": "c09f3901",
   "metadata": {},
   "outputs": [],
   "source": [
    "# step 3 : get the output\n",
    "\n",
    "detections = face_detection_model.forward()"
   ]
  },
  {
   "cell_type": "code",
   "execution_count": 9,
   "id": "12b71135",
   "metadata": {},
   "outputs": [
    {
     "data": {
      "text/plain": [
       "(1, 1, 200, 7)"
      ]
     },
     "execution_count": 9,
     "metadata": {},
     "output_type": "execute_result"
    }
   ],
   "source": [
    "detections.shape"
   ]
  },
  {
   "cell_type": "code",
   "execution_count": 12,
   "id": "fe08963c",
   "metadata": {},
   "outputs": [
    {
     "data": {
      "text/plain": [
       "array([0.99476874, 0.99213576, 0.98873734, 0.9848742 , 0.9804294 ,\n",
       "       0.9760355 , 0.9628146 , 0.94041014, 0.9363622 , 0.923421  ,\n",
       "       0.9178746 , 0.8932201 , 0.87518954, 0.84931123, 0.8417759 ,\n",
       "       0.12143431, 0.11559489, 0.10952527, 0.10808051, 0.09161676,\n",
       "       0.09074387, 0.08973087, 0.08958048, 0.08949491, 0.08839679,\n",
       "       0.0877774 , 0.08761393, 0.08742326, 0.08710682, 0.08684485,\n",
       "       0.08674572, 0.08657965, 0.08656905, 0.08655967, 0.08587652,\n",
       "       0.08557981, 0.08520038, 0.08500054, 0.08498819, 0.0848233 ,\n",
       "       0.        , 0.        , 0.        , 0.        , 0.        ,\n",
       "       0.        , 0.        , 0.        , 0.        , 0.        ,\n",
       "       0.        , 0.        , 0.        , 0.        , 0.        ,\n",
       "       0.        , 0.        , 0.        , 0.        , 0.        ,\n",
       "       0.        , 0.        , 0.        , 0.        , 0.        ,\n",
       "       0.        , 0.        , 0.        , 0.        , 0.        ,\n",
       "       0.        , 0.        , 0.        , 0.        , 0.        ,\n",
       "       0.        , 0.        , 0.        , 0.        , 0.        ,\n",
       "       0.        , 0.        , 0.        , 0.        , 0.        ,\n",
       "       0.        , 0.        , 0.        , 0.        , 0.        ,\n",
       "       0.        , 0.        , 0.        , 0.        , 0.        ,\n",
       "       0.        , 0.        , 0.        , 0.        , 0.        ,\n",
       "       0.        , 0.        , 0.        , 0.        , 0.        ,\n",
       "       0.        , 0.        , 0.        , 0.        , 0.        ,\n",
       "       0.        , 0.        , 0.        , 0.        , 0.        ,\n",
       "       0.        , 0.        , 0.        , 0.        , 0.        ,\n",
       "       0.        , 0.        , 0.        , 0.        , 0.        ,\n",
       "       0.        , 0.        , 0.        , 0.        , 0.        ,\n",
       "       0.        , 0.        , 0.        , 0.        , 0.        ,\n",
       "       0.        , 0.        , 0.        , 0.        , 0.        ,\n",
       "       0.        , 0.        , 0.        , 0.        , 0.        ,\n",
       "       0.        , 0.        , 0.        , 0.        , 0.        ,\n",
       "       0.        , 0.        , 0.        , 0.        , 0.        ,\n",
       "       0.        , 0.        , 0.        , 0.        , 0.        ,\n",
       "       0.        , 0.        , 0.        , 0.        , 0.        ,\n",
       "       0.        , 0.        , 0.        , 0.        , 0.        ,\n",
       "       0.        , 0.        , 0.        , 0.        , 0.        ,\n",
       "       0.        , 0.        , 0.        , 0.        , 0.        ,\n",
       "       0.        , 0.        , 0.        , 0.        , 0.        ,\n",
       "       0.        , 0.        , 0.        , 0.        , 0.        ,\n",
       "       0.        , 0.        , 0.        , 0.        , 0.        ,\n",
       "       0.        , 0.        , 0.        , 0.        , 0.        ],\n",
       "      dtype=float32)"
      ]
     },
     "execution_count": 12,
     "metadata": {},
     "output_type": "execute_result"
    }
   ],
   "source": [
    "detections[0,0,:,2]"
   ]
  },
  {
   "cell_type": "code",
   "execution_count": 27,
   "id": "e60e6139",
   "metadata": {},
   "outputs": [
    {
     "name": "stdout",
     "output_type": "stream",
     "text": [
      "score : 99 %\n",
      "score : 99 %\n",
      "score : 99 %\n",
      "score : 98 %\n",
      "score : 98 %\n",
      "score : 98 %\n",
      "score : 96 %\n",
      "score : 94 %\n",
      "score : 94 %\n",
      "score : 92 %\n",
      "score : 92 %\n",
      "score : 89 %\n",
      "score : 88 %\n",
      "score : 85 %\n",
      "score : 84 %\n"
     ]
    }
   ],
   "source": [
    "# step 4 : drawing bounding box on top of face detected\n",
    "\n",
    "image = img.copy()\n",
    "\n",
    "h,w = image.shape[:2]\n",
    "\n",
    "for i in range(0, detections.shape[2]):\n",
    "    confidence = detections[0,0,i,2]\n",
    "    #print(confidence)\n",
    "    if confidence > 0.5:\n",
    "        #print(confidence)\n",
    "    # diagnal points  3 : 7\n",
    "        box = detections[0,0,i,3:7]*np.array([w,h,w,h])\n",
    "        box = box.astype('int')\n",
    "        pt1 = (box[0],box[1])\n",
    "        pt2 = (box[2],box[3])\n",
    "        \n",
    "        # draw rectangle\n",
    "        cv2.rectangle(image,pt1,pt2,(0,255,0),1)\n",
    "        \n",
    "        text = 'score : {:.0f} %'.format(confidence*100)\n",
    "        print(text)\n",
    "cv2.imshow('face detection dnn',image)\n",
    "cv2.waitKey(0)\n",
    "cv2.destroyAllWindows()\n",
    "\n"
   ]
  },
  {
   "cell_type": "markdown",
   "id": "3b7356eb",
   "metadata": {},
   "source": [
    "# method 2 : face detection DNN function"
   ]
  },
  {
   "cell_type": "code",
   "execution_count": 39,
   "id": "4261ee3c",
   "metadata": {},
   "outputs": [],
   "source": [
    "def face_detection_dnn(img):     \n",
    "    # step 1 : blob from image\n",
    "\n",
    "        blob = cv2.dnn.blobFromImage(img,1,(300,300),(104,177,123),swapRB=True)\n",
    "\n",
    "        # step 2 : blob from image\n",
    "\n",
    "        face_detection_model.setInput(blob)\n",
    "\n",
    "        # step 3 : get the output\n",
    "\n",
    "        detections = face_detection_model.forward()\n",
    "\n",
    "        image = img.copy()\n",
    "\n",
    "        h,w = image.shape[:2]\n",
    "\n",
    "        for i in range(0, detections.shape[2]):\n",
    "            confidence = detections[0,0,i,2]\n",
    "            #print(confidence)\n",
    "            if confidence > 0.5:\n",
    "                #print(confidence)\n",
    "            # diagnal points  3 : 7\n",
    "                box = detections[0,0,i,3:7]*np.array([w,h,w,h])\n",
    "                box = box.astype('int')\n",
    "                pt1 = (box[0],box[1])\n",
    "                pt2 = (box[2],box[3])\n",
    "\n",
    "                # draw rectangle\n",
    "                cv2.rectangle(image,pt1,pt2,(0,255,0),1)\n",
    "\n",
    "                text = 'score : {:.0f} %'.format(confidence*100)\n",
    "                cv2.putText(image,text,pt1,cv2.FONT_HERSHEY_SIMPLEX,1,(255,255,255),2)\n",
    "            \n",
    "                \n",
    "                print(text)\n",
    "        return image"
   ]
  },
  {
   "cell_type": "code",
   "execution_count": 40,
   "id": "2f3bb946",
   "metadata": {},
   "outputs": [
    {
     "name": "stdout",
     "output_type": "stream",
     "text": [
      "score : 99 %\n",
      "score : 99 %\n",
      "score : 99 %\n",
      "score : 98 %\n",
      "score : 98 %\n",
      "score : 98 %\n",
      "score : 96 %\n",
      "score : 94 %\n",
      "score : 94 %\n",
      "score : 92 %\n",
      "score : 92 %\n",
      "score : 89 %\n",
      "score : 88 %\n",
      "score : 85 %\n",
      "score : 84 %\n"
     ]
    }
   ],
   "source": [
    "\n",
    "img_detection = face_detection_dnn(img)"
   ]
  },
  {
   "cell_type": "code",
   "execution_count": 41,
   "id": "6ff8a67a",
   "metadata": {},
   "outputs": [],
   "source": [
    "cv2.imshow('face detection dnn',img_detection)\n",
    "cv2.waitKey(0)\n",
    "cv2.destroyAllWindows()"
   ]
  },
  {
   "cell_type": "code",
   "execution_count": null,
   "id": "166a264b",
   "metadata": {},
   "outputs": [],
   "source": []
  }
 ],
 "metadata": {
  "kernelspec": {
   "display_name": "Python 3 (ipykernel)",
   "language": "python",
   "name": "python3"
  },
  "language_info": {
   "codemirror_mode": {
    "name": "ipython",
    "version": 3
   },
   "file_extension": ".py",
   "mimetype": "text/x-python",
   "name": "python",
   "nbconvert_exporter": "python",
   "pygments_lexer": "ipython3",
   "version": "3.9.13"
  }
 },
 "nbformat": 4,
 "nbformat_minor": 5
}
