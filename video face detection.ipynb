{
 "cells": [
  {
   "cell_type": "code",
   "execution_count": 2,
   "id": "2eb84944",
   "metadata": {},
   "outputs": [],
   "source": [
    "import cv2\n",
    "cap = cv2.VideoCapture(0)"
   ]
  },
  {
   "cell_type": "code",
   "execution_count": 3,
   "id": "2f780e93",
   "metadata": {},
   "outputs": [],
   "source": [
    "face_cascade = cv2.CascadeClassifier('haarcascade_frontalface_default.xml')"
   ]
  },
  {
   "cell_type": "code",
   "execution_count": null,
   "id": "949f382a",
   "metadata": {},
   "outputs": [],
   "source": []
  },
  {
   "cell_type": "code",
   "execution_count": null,
   "id": "9c8193af",
   "metadata": {},
   "outputs": [],
   "source": [
    "while True:\n",
    "    ret, frame = cap.read()\n",
    "    if ret == False:\n",
    "        break\n",
    "        \n",
    "\n",
    "def face_detection(img):\n",
    "    image = img.copy()\n",
    "    # step 1 :  convert image into gray scale\n",
    "\n",
    "    gray = cv2.cvtColor(img,cv2.COLOR_BGR2GRAY)\n",
    "\n",
    "\n",
    "    #Step 2 :  apply gray scale image to cascade classifier\n",
    "\n",
    "    box, detections = face_cascade.detectMultiScale2(gray,minNeighbors=8)\n",
    "    \n",
    "    for x,y,w,h in box:\n",
    "   \n",
    "      cv2.rectangle(image, (x,y),(x+w,y+h),(0,255,0),1)\n",
    "    \n",
    "    return image\n",
    "\n",
    "\n",
    "    img_detect = face_detection(frame)\n",
    "    \n",
    "    cv2.imshow('real time face detection',img_detect)\n",
    "    if cv2.waitKey(1) == ord('a'):\n",
    "         break\n",
    "\n",
    "cap.release()\n",
    "cv2.destroyAllWindows()"
   ]
  },
  {
   "cell_type": "code",
   "execution_count": null,
   "id": "4205383c",
   "metadata": {},
   "outputs": [],
   "source": []
  }
 ],
 "metadata": {
  "kernelspec": {
   "display_name": "Python 3 (ipykernel)",
   "language": "python",
   "name": "python3"
  },
  "language_info": {
   "codemirror_mode": {
    "name": "ipython",
    "version": 3
   },
   "file_extension": ".py",
   "mimetype": "text/x-python",
   "name": "python",
   "nbconvert_exporter": "python",
   "pygments_lexer": "ipython3",
   "version": "3.9.13"
  }
 },
 "nbformat": 4,
 "nbformat_minor": 5
}
