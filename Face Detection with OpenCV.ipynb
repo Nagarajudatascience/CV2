{
 "cells": [
  {
   "cell_type": "code",
   "execution_count": 1,
   "id": "83566791",
   "metadata": {},
   "outputs": [
    {
     "ename": "ModuleNotFoundError",
     "evalue": "No module named 'cv2'",
     "output_type": "error",
     "traceback": [
      "\u001b[1;31m---------------------------------------------------------------------------\u001b[0m",
      "\u001b[1;31mModuleNotFoundError\u001b[0m                       Traceback (most recent call last)",
      "\u001b[1;32m~\\AppData\\Local\\Temp\\ipykernel_103524\\1757485643.py\u001b[0m in \u001b[0;36m<module>\u001b[1;34m\u001b[0m\n\u001b[0;32m      1\u001b[0m \u001b[1;32mimport\u001b[0m \u001b[0mnumpy\u001b[0m \u001b[1;32mas\u001b[0m \u001b[0mnp\u001b[0m\u001b[1;33m\u001b[0m\u001b[1;33m\u001b[0m\u001b[0m\n\u001b[1;32m----> 2\u001b[1;33m \u001b[1;32mimport\u001b[0m \u001b[0mcv2\u001b[0m\u001b[1;33m\u001b[0m\u001b[1;33m\u001b[0m\u001b[0m\n\u001b[0m",
      "\u001b[1;31mModuleNotFoundError\u001b[0m: No module named 'cv2'"
     ]
    }
   ],
   "source": [
    "import numpy as np\n",
    "import cv2"
   ]
  },
  {
   "cell_type": "code",
   "execution_count": 2,
   "id": "54aba483",
   "metadata": {},
   "outputs": [
    {
     "name": "stderr",
     "output_type": "stream",
     "text": [
      "ERROR: Could not find a version that satisfies the requirement openCV (from versions: none)\n",
      "ERROR: No matching distribution found for openCV\n"
     ]
    }
   ],
   "source": [
    "!pip install openCV"
   ]
  },
  {
   "cell_type": "code",
   "execution_count": 3,
   "id": "98df8204",
   "metadata": {},
   "outputs": [
    {
     "name": "stdout",
     "output_type": "stream",
     "text": [
      "Collecting opencv-python\n",
      "  Downloading opencv_python-4.6.0.66-cp36-abi3-win_amd64.whl (35.6 MB)\n",
      "     ---------------------------------------- 35.6/35.6 MB 5.8 MB/s eta 0:00:00\n",
      "Requirement already satisfied: numpy>=1.19.3 in c:\\users\\91799\\anaconda3\\lib\\site-packages (from opencv-python) (1.21.5)\n",
      "Installing collected packages: opencv-python\n",
      "Successfully installed opencv-python-4.6.0.66\n"
     ]
    }
   ],
   "source": [
    "!pip3 install opencv-python"
   ]
  },
  {
   "cell_type": "code",
   "execution_count": 4,
   "id": "22a1ed5e",
   "metadata": {},
   "outputs": [],
   "source": [
    "import numpy as np\n",
    "import cv2"
   ]
  },
  {
   "cell_type": "code",
   "execution_count": 8,
   "id": "23a86899",
   "metadata": {},
   "outputs": [],
   "source": [
    "img = cv2.imread('face.jpg')\n",
    "\n",
    "\n",
    "cv2.imshow('face',img)\n",
    "cv2.waitKey(0)\n",
    "cv2.destroyAllWindows()"
   ]
  },
  {
   "cell_type": "code",
   "execution_count": 9,
   "id": "a21a81e4",
   "metadata": {},
   "outputs": [],
   "source": [
    "face_cascade = cv2.CascadeClassifier('haarcascade_frontalface_default.xml')"
   ]
  },
  {
   "cell_type": "code",
   "execution_count": 13,
   "id": "7ff42523",
   "metadata": {},
   "outputs": [],
   "source": [
    "#voila- jone cascade clasifier\n",
    "\n",
    "# step 1 :  convert image into gray scale\n",
    "\n",
    "gray = cv2.cvtColor(img,cv2.COLOR_BGR2GRAY)\n",
    "\n",
    "\n",
    "#Step 2 :  apply gray scale image to cascade classifier\n",
    "\n",
    "box, detections = face_cascade.detectMultiScale2(gray,minNeighbors=8)"
   ]
  },
  {
   "cell_type": "code",
   "execution_count": 14,
   "id": "fb67dcf4",
   "metadata": {},
   "outputs": [
    {
     "data": {
      "text/plain": [
       "array([[  66,  962,  257,  257],\n",
       "       [ 867,  956,  264,  264],\n",
       "       [  53,  545,  282,  282],\n",
       "       [ 853,  543,  288,  288],\n",
       "       [1670,  558,  261,  261],\n",
       "       [ 449,  938,  297,  297],\n",
       "       [1254,  947,  288,  288],\n",
       "       [1656,  942,  297,  297],\n",
       "       [ 446,  537,  297,  297],\n",
       "       [1254,  537,  298,  298],\n",
       "       [ 443,  127,  313,  313],\n",
       "       [ 865,  146,  274,  274],\n",
       "       [  62,  155,  263,  263],\n",
       "       [1287,  160,  240,  240],\n",
       "       [1658,  140,  289,  289],\n",
       "       [1495,  677,  143,  143]])"
      ]
     },
     "execution_count": 14,
     "metadata": {},
     "output_type": "execute_result"
    }
   ],
   "source": [
    "box                                # 66(x position),  962(y position),  257(w face),  257(h face)"
   ]
  },
  {
   "cell_type": "code",
   "execution_count": 15,
   "id": "1adf1e8b",
   "metadata": {},
   "outputs": [
    {
     "data": {
      "text/plain": [
       "array([103, 113,  81, 143, 110, 118, 128,  89,  82,  64, 119, 137, 148,\n",
       "        89,  85,   9])"
      ]
     },
     "execution_count": 15,
     "metadata": {},
     "output_type": "execute_result"
    }
   ],
   "source": [
    "detections"
   ]
  },
  {
   "cell_type": "code",
   "execution_count": 19,
   "id": "98baeac9",
   "metadata": {},
   "outputs": [],
   "source": [
    "# step 3 : drawing bounding box\n",
    "\n",
    "image = img.copy()\n",
    "\n",
    "for x,y,w,h in box:\n",
    "   \n",
    "    cv2.rectangle(image, (x,y),(x+w,y+h),(0,255,0),1)\n",
    "\n",
    "cv2.imshow('face detection',image)\n",
    "cv2.waitKey(0)\n",
    "cv2.destroyAllWindows()"
   ]
  },
  {
   "cell_type": "markdown",
   "id": "87034dab",
   "metadata": {},
   "source": [
    " # method 2 : face detection with function"
   ]
  },
  {
   "cell_type": "code",
   "execution_count": 21,
   "id": "c2db77d8",
   "metadata": {},
   "outputs": [],
   "source": [
    "def face_detection(img):\n",
    "    image = img.copy()\n",
    "    # step 1 :  convert image into gray scale\n",
    "\n",
    "    gray = cv2.cvtColor(img,cv2.COLOR_BGR2GRAY)\n",
    "\n",
    "\n",
    "    #Step 2 :  apply gray scale image to cascade classifier\n",
    "\n",
    "    box, detections = face_cascade.detectMultiScale2(gray,minNeighbors=8)\n",
    "    \n",
    "    for x,y,w,h in box:\n",
    "   \n",
    "      cv2.rectangle(image, (x,y),(x+w,y+h),(0,255,0),1)\n",
    "    \n",
    "    return image\n",
    "    "
   ]
  },
  {
   "cell_type": "code",
   "execution_count": 22,
   "id": "83eb9b89",
   "metadata": {},
   "outputs": [],
   "source": [
    "img_detect = face_detection(img)\n",
    "\n",
    "cv2.imshow('face detection',img_detect)\n",
    "cv2.waitKey(0)\n",
    "cv2.destroyAllWindows()"
   ]
  },
  {
   "cell_type": "code",
   "execution_count": null,
   "id": "35609ddb",
   "metadata": {},
   "outputs": [],
   "source": []
  }
 ],
 "metadata": {
  "kernelspec": {
   "display_name": "Python 3 (ipykernel)",
   "language": "python",
   "name": "python3"
  },
  "language_info": {
   "codemirror_mode": {
    "name": "ipython",
    "version": 3
   },
   "file_extension": ".py",
   "mimetype": "text/x-python",
   "name": "python",
   "nbconvert_exporter": "python",
   "pygments_lexer": "ipython3",
   "version": "3.9.13"
  }
 },
 "nbformat": 4,
 "nbformat_minor": 5
}
